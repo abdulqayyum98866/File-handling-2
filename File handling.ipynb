{
 "cells": [
  {
   "cell_type": "code",
   "execution_count": 180,
   "id": "4d72bbd4",
   "metadata": {},
   "outputs": [],
   "source": [
    "## Give the path of a file, ( ex: \"file\" and file mode \"r\" )"
   ]
  },
  {
   "cell_type": "code",
   "execution_count": 181,
   "id": "6e3a62ce",
   "metadata": {},
   "outputs": [
    {
     "name": "stdout",
     "output_type": "stream",
     "text": [
      "Avul Pakir Jainulabdeen Abdul Kalam (/ˈəbdəl kəˈlɑːm/ (About this soundlisten); 15 October 1931 – 27 July 2015) was an Indian aerospace scientist who served as the 11th president of India from 2002 to 2007. He was born and raised in Rameswaram, Tamil Nadu and studied physics and aerospace engineering. He spent the next four decades as a scientist and science administrator, mainly at the Defence Research and Development Organisation (DRDO) and Indian Space Research Organisation (ISRO) and was intimately involved in India's civilian space programme and military missile development efforts.[1] He thus came to be known as the Missile Man of India for his work on the development of ballistic missile and launch vehicle technology.[2][3][4] He also played a pivotal organisational, technical, and political role in India's Pokhran-II nuclear tests in 1998, the first since the original nuclear test by India in 1974.[5]\n",
      "\n",
      "Kalam was elected as the 11th president of India in 2002 with the support of both the ruling Bharatiya Janata Party and the then-opposition Indian National Congress. Widely referred to as the \"People's President\",[6] he returned to his civilian life of education, writing and public service after a single term. He was a recipient of several prestigious awards, including the Bharat Ratna, India's highest civilian honour.\n",
      "\n",
      "While delivering a lecture at the Indian Institute of Management Shillong, Kalam collapsed and died from an apparent cardiac arrest on 27 July 2015, aged 83.[7] Thousands, including national-level dignitaries, attended the funeral ceremony held in his hometown of Rameswaram, where he was buried with full state honours.[8] \n",
      "\n"
     ]
    }
   ],
   "source": [
    "fd = open(\"File\", \"r\")\n",
    "\n",
    "print(fd.read())\n",
    "\n",
    "fd.close()"
   ]
  },
  {
   "cell_type": "code",
   "execution_count": 182,
   "id": "8acade8f",
   "metadata": {},
   "outputs": [],
   "source": [
    "## Open the file as you see the strings."
   ]
  },
  {
   "cell_type": "code",
   "execution_count": 183,
   "id": "47980bf5",
   "metadata": {},
   "outputs": [],
   "source": [
    "fd = open(\"File\", \"r\")\n",
    "\n",
    "# t = (fd.read(13))\n",
    "\n",
    "t = (fd.read())\n",
    "\n",
    "fd.close()"
   ]
  },
  {
   "cell_type": "code",
   "execution_count": 184,
   "id": "76a2f34a",
   "metadata": {},
   "outputs": [],
   "source": [
    "## print the file"
   ]
  },
  {
   "cell_type": "code",
   "execution_count": 185,
   "id": "fa75f265",
   "metadata": {},
   "outputs": [],
   "source": [
    "# print(t)"
   ]
  },
  {
   "cell_type": "code",
   "execution_count": 186,
   "id": "5a363b5f",
   "metadata": {},
   "outputs": [],
   "source": [
    "## Check the type of a file"
   ]
  },
  {
   "cell_type": "code",
   "execution_count": 187,
   "id": "4ca02a97",
   "metadata": {},
   "outputs": [
    {
     "data": {
      "text/plain": [
       "str"
      ]
     },
     "execution_count": 187,
     "metadata": {},
     "output_type": "execute_result"
    }
   ],
   "source": [
    "type(t)"
   ]
  },
  {
   "cell_type": "code",
   "execution_count": 188,
   "id": "5a091c99",
   "metadata": {},
   "outputs": [],
   "source": [
    "## print all the text."
   ]
  },
  {
   "cell_type": "code",
   "execution_count": 189,
   "id": "4286ef22",
   "metadata": {},
   "outputs": [
    {
     "name": "stdout",
     "output_type": "stream",
     "text": [
      "Avul Pakir Jainulabdeen Abdul Kalam (/ˈəbdəl kəˈlɑːm/ (About this soundlisten); 15 October 1931 – 27 July 2015) was an Indian aerospace scientist who served as the 11th president of India from 2002 to 2007. He was born and raised in Rameswaram, Tamil Nadu and studied physics and aerospace engineering. He spent the next four decades as a scientist and science administrator, mainly at the Defence Research and Development Organisation (DRDO) and Indian Space Research Organisation (ISRO) and was intimately involved in India's civilian space programme and military missile development efforts.[1] He thus came to be known as the Missile Man of India for his work on the development of ballistic missile and launch vehicle technology.[2][3][4] He also played a pivotal organisational, technical, and political role in India's Pokhran-II nuclear tests in 1998, the first since the original nuclear test by India in 1974.[5]\n",
      "\n",
      "Kalam was elected as the 11th president of India in 2002 with the support of both the ruling Bharatiya Janata Party and the then-opposition Indian National Congress. Widely referred to as the \"People's President\",[6] he returned to his civilian life of education, writing and public service after a single term. He was a recipient of several prestigious awards, including the Bharat Ratna, India's highest civilian honour.\n",
      "\n",
      "While delivering a lecture at the Indian Institute of Management Shillong, Kalam collapsed and died from an apparent cardiac arrest on 27 July 2015, aged 83.[7] Thousands, including national-level dignitaries, attended the funeral ceremony held in his hometown of Rameswaram, where he was buried with full state honours.[8] \n",
      "\n"
     ]
    }
   ],
   "source": [
    "print(t)"
   ]
  },
  {
   "cell_type": "code",
   "execution_count": 190,
   "id": "de44b8c6",
   "metadata": {},
   "outputs": [],
   "source": [
    "## To check the paragraph using \"split function\"."
   ]
  },
  {
   "cell_type": "code",
   "execution_count": 191,
   "id": "cd19a34e",
   "metadata": {},
   "outputs": [
    {
     "data": {
      "text/plain": [
       "[\"Avul Pakir Jainulabdeen Abdul Kalam (/ˈəbdəl kəˈlɑːm/ (About this soundlisten); 15 October 1931 – 27 July 2015) was an Indian aerospace scientist who served as the 11th president of India from 2002 to 2007. He was born and raised in Rameswaram, Tamil Nadu and studied physics and aerospace engineering. He spent the next four decades as a scientist and science administrator, mainly at the Defence Research and Development Organisation (DRDO) and Indian Space Research Organisation (ISRO) and was intimately involved in India's civilian space programme and military missile development efforts.[1] He thus came to be known as the Missile Man of India for his work on the development of ballistic missile and launch vehicle technology.[2][3][4] He also played a pivotal organisational, technical, and political role in India's Pokhran-II nuclear tests in 1998, the first since the original nuclear test by India in 1974.[5]\",\n",
       " '',\n",
       " 'Kalam was elected as the 11th president of India in 2002 with the support of both the ruling Bharatiya Janata Party and the then-opposition Indian National Congress. Widely referred to as the \"People\\'s President\",[6] he returned to his civilian life of education, writing and public service after a single term. He was a recipient of several prestigious awards, including the Bharat Ratna, India\\'s highest civilian honour.',\n",
       " '',\n",
       " 'While delivering a lecture at the Indian Institute of Management Shillong, Kalam collapsed and died from an apparent cardiac arrest on 27 July 2015, aged 83.[7] Thousands, including national-level dignitaries, attended the funeral ceremony held in his hometown of Rameswaram, where he was buried with full state honours.[8] ',\n",
       " '']"
      ]
     },
     "execution_count": 191,
     "metadata": {},
     "output_type": "execute_result"
    }
   ],
   "source": [
    "t.split(\"\\n\") # We got a list, because list has [] brackets."
   ]
  },
  {
   "cell_type": "code",
   "execution_count": 192,
   "id": "76995581",
   "metadata": {},
   "outputs": [],
   "source": [
    "l = t.split(\"\\n\") # l is a list, note split with respect to \\n means space."
   ]
  },
  {
   "cell_type": "code",
   "execution_count": 193,
   "id": "87654521",
   "metadata": {},
   "outputs": [
    {
     "data": {
      "text/plain": [
       "[\"Avul Pakir Jainulabdeen Abdul Kalam (/ˈəbdəl kəˈlɑːm/ (About this soundlisten); 15 October 1931 – 27 July 2015) was an Indian aerospace scientist who served as the 11th president of India from 2002 to 2007. He was born and raised in Rameswaram, Tamil Nadu and studied physics and aerospace engineering. He spent the next four decades as a scientist and science administrator, mainly at the Defence Research and Development Organisation (DRDO) and Indian Space Research Organisation (ISRO) and was intimately involved in India's civilian space programme and military missile development efforts.[1] He thus came to be known as the Missile Man of India for his work on the development of ballistic missile and launch vehicle technology.[2][3][4] He also played a pivotal organisational, technical, and political role in India's Pokhran-II nuclear tests in 1998, the first since the original nuclear test by India in 1974.[5]\",\n",
       " '',\n",
       " 'Kalam was elected as the 11th president of India in 2002 with the support of both the ruling Bharatiya Janata Party and the then-opposition Indian National Congress. Widely referred to as the \"People\\'s President\",[6] he returned to his civilian life of education, writing and public service after a single term. He was a recipient of several prestigious awards, including the Bharat Ratna, India\\'s highest civilian honour.',\n",
       " '',\n",
       " 'While delivering a lecture at the Indian Institute of Management Shillong, Kalam collapsed and died from an apparent cardiac arrest on 27 July 2015, aged 83.[7] Thousands, including national-level dignitaries, attended the funeral ceremony held in his hometown of Rameswaram, where he was buried with full state honours.[8] ',\n",
       " '']"
      ]
     },
     "execution_count": 193,
     "metadata": {},
     "output_type": "execute_result"
    }
   ],
   "source": [
    "l"
   ]
  },
  {
   "cell_type": "code",
   "execution_count": 194,
   "id": "b865f0e7",
   "metadata": {},
   "outputs": [
    {
     "data": {
      "text/plain": [
       "list"
      ]
     },
     "execution_count": 194,
     "metadata": {},
     "output_type": "execute_result"
    }
   ],
   "source": [
    "type(l) # list"
   ]
  },
  {
   "cell_type": "code",
   "execution_count": 195,
   "id": "9e17b499",
   "metadata": {},
   "outputs": [
    {
     "data": {
      "text/plain": [
       "6"
      ]
     },
     "execution_count": 195,
     "metadata": {},
     "output_type": "execute_result"
    }
   ],
   "source": [
    "len(l) # It's splitting the whole corpus with respect to \\n."
   ]
  },
  {
   "cell_type": "code",
   "execution_count": 196,
   "id": "2057f0e1",
   "metadata": {},
   "outputs": [
    {
     "data": {
      "text/plain": [
       "\"Avul Pakir Jainulabdeen Abdul Kalam (/ˈəbdəl kəˈlɑːm/ (About this soundlisten); 15 October 1931 – 27 July 2015) was an Indian aerospace scientist who served as the 11th president of India from 2002 to 2007. He was born and raised in Rameswaram, Tamil Nadu and studied physics and aerospace engineering. He spent the next four decades as a scientist and science administrator, mainly at the Defence Research and Development Organisation (DRDO) and Indian Space Research Organisation (ISRO) and was intimately involved in India's civilian space programme and military missile development efforts.[1] He thus came to be known as the Missile Man of India for his work on the development of ballistic missile and launch vehicle technology.[2][3][4] He also played a pivotal organisational, technical, and political role in India's Pokhran-II nuclear tests in 1998, the first since the original nuclear test by India in 1974.[5]\""
      ]
     },
     "execution_count": 196,
     "metadata": {},
     "output_type": "execute_result"
    }
   ],
   "source": [
    "l[0]"
   ]
  },
  {
   "cell_type": "code",
   "execution_count": 197,
   "id": "8b937839",
   "metadata": {},
   "outputs": [
    {
     "data": {
      "text/plain": [
       "''"
      ]
     },
     "execution_count": 197,
     "metadata": {},
     "output_type": "execute_result"
    }
   ],
   "source": [
    "l[1]"
   ]
  },
  {
   "cell_type": "code",
   "execution_count": 198,
   "id": "fd35c1d5",
   "metadata": {},
   "outputs": [
    {
     "data": {
      "text/plain": [
       "'Kalam was elected as the 11th president of India in 2002 with the support of both the ruling Bharatiya Janata Party and the then-opposition Indian National Congress. Widely referred to as the \"People\\'s President\",[6] he returned to his civilian life of education, writing and public service after a single term. He was a recipient of several prestigious awards, including the Bharat Ratna, India\\'s highest civilian honour.'"
      ]
     },
     "execution_count": 198,
     "metadata": {},
     "output_type": "execute_result"
    }
   ],
   "source": [
    "l[2]"
   ]
  },
  {
   "cell_type": "code",
   "execution_count": 199,
   "id": "d08d53b2",
   "metadata": {},
   "outputs": [
    {
     "data": {
      "text/plain": [
       "''"
      ]
     },
     "execution_count": 199,
     "metadata": {},
     "output_type": "execute_result"
    }
   ],
   "source": [
    "l[3]"
   ]
  },
  {
   "cell_type": "code",
   "execution_count": 200,
   "id": "2920bc11",
   "metadata": {},
   "outputs": [
    {
     "data": {
      "text/plain": [
       "'While delivering a lecture at the Indian Institute of Management Shillong, Kalam collapsed and died from an apparent cardiac arrest on 27 July 2015, aged 83.[7] Thousands, including national-level dignitaries, attended the funeral ceremony held in his hometown of Rameswaram, where he was buried with full state honours.[8] '"
      ]
     },
     "execution_count": 200,
     "metadata": {},
     "output_type": "execute_result"
    }
   ],
   "source": [
    "l[4]"
   ]
  },
  {
   "cell_type": "code",
   "execution_count": 201,
   "id": "eb5f66f2",
   "metadata": {},
   "outputs": [
    {
     "data": {
      "text/plain": [
       "''"
      ]
     },
     "execution_count": 201,
     "metadata": {},
     "output_type": "execute_result"
    }
   ],
   "source": [
    "l[5]"
   ]
  },
  {
   "cell_type": "code",
   "execution_count": 202,
   "id": "43e48160",
   "metadata": {},
   "outputs": [
    {
     "data": {
      "text/plain": [
       "6"
      ]
     },
     "execution_count": 202,
     "metadata": {},
     "output_type": "execute_result"
    }
   ],
   "source": [
    "len(l)"
   ]
  },
  {
   "cell_type": "code",
   "execution_count": 203,
   "id": "b8e90ad1",
   "metadata": {},
   "outputs": [
    {
     "data": {
      "text/plain": [
       "1673"
      ]
     },
     "execution_count": 203,
     "metadata": {},
     "output_type": "execute_result"
    }
   ],
   "source": [
    "len(t) # total character of Corpus"
   ]
  },
  {
   "cell_type": "code",
   "execution_count": 204,
   "id": "fceb247a",
   "metadata": {},
   "outputs": [],
   "source": [
    "words = t.split(\" \") # FInd words, note split with respect to space."
   ]
  },
  {
   "cell_type": "code",
   "execution_count": 205,
   "id": "c6e17710",
   "metadata": {},
   "outputs": [
    {
     "data": {
      "text/plain": [
       "256"
      ]
     },
     "execution_count": 205,
     "metadata": {},
     "output_type": "execute_result"
    }
   ],
   "source": [
    "len(words) # total words"
   ]
  },
  {
   "cell_type": "code",
   "execution_count": 206,
   "id": "7e1cccb5",
   "metadata": {},
   "outputs": [
    {
     "data": {
      "text/plain": [
       "['Avul',\n",
       " 'Pakir',\n",
       " 'Jainulabdeen',\n",
       " 'Abdul',\n",
       " 'Kalam',\n",
       " '(/ˈəbdəl',\n",
       " 'kəˈlɑːm/',\n",
       " '(About',\n",
       " 'this',\n",
       " 'soundlisten);',\n",
       " '15',\n",
       " 'October',\n",
       " '1931',\n",
       " '–',\n",
       " '27',\n",
       " 'July',\n",
       " '2015)',\n",
       " 'was',\n",
       " 'an',\n",
       " 'Indian',\n",
       " 'aerospace',\n",
       " 'scientist',\n",
       " 'who',\n",
       " 'served',\n",
       " 'as',\n",
       " 'the',\n",
       " '11th',\n",
       " 'president',\n",
       " 'of',\n",
       " 'India',\n",
       " 'from',\n",
       " '2002',\n",
       " 'to',\n",
       " '2007.',\n",
       " 'He',\n",
       " 'was',\n",
       " 'born',\n",
       " 'and',\n",
       " 'raised',\n",
       " 'in',\n",
       " 'Rameswaram,',\n",
       " 'Tamil',\n",
       " 'Nadu',\n",
       " 'and',\n",
       " 'studied',\n",
       " 'physics',\n",
       " 'and',\n",
       " 'aerospace',\n",
       " 'engineering.',\n",
       " 'He',\n",
       " 'spent',\n",
       " 'the',\n",
       " 'next',\n",
       " 'four',\n",
       " 'decades',\n",
       " 'as',\n",
       " 'a',\n",
       " 'scientist',\n",
       " 'and',\n",
       " 'science',\n",
       " 'administrator,',\n",
       " 'mainly',\n",
       " 'at',\n",
       " 'the',\n",
       " 'Defence',\n",
       " 'Research',\n",
       " 'and',\n",
       " 'Development',\n",
       " 'Organisation',\n",
       " '(DRDO)',\n",
       " 'and',\n",
       " 'Indian',\n",
       " 'Space',\n",
       " 'Research',\n",
       " 'Organisation',\n",
       " '(ISRO)',\n",
       " 'and',\n",
       " 'was',\n",
       " 'intimately',\n",
       " 'involved',\n",
       " 'in',\n",
       " \"India's\",\n",
       " 'civilian',\n",
       " 'space',\n",
       " 'programme',\n",
       " 'and',\n",
       " 'military',\n",
       " 'missile',\n",
       " 'development',\n",
       " 'efforts.[1]',\n",
       " 'He',\n",
       " 'thus',\n",
       " 'came',\n",
       " 'to',\n",
       " 'be',\n",
       " 'known',\n",
       " 'as',\n",
       " 'the',\n",
       " 'Missile',\n",
       " 'Man',\n",
       " 'of',\n",
       " 'India',\n",
       " 'for',\n",
       " 'his',\n",
       " 'work',\n",
       " 'on',\n",
       " 'the',\n",
       " 'development',\n",
       " 'of',\n",
       " 'ballistic',\n",
       " 'missile',\n",
       " 'and',\n",
       " 'launch',\n",
       " 'vehicle',\n",
       " 'technology.[2][3][4]',\n",
       " 'He',\n",
       " 'also',\n",
       " 'played',\n",
       " 'a',\n",
       " 'pivotal',\n",
       " 'organisational,',\n",
       " 'technical,',\n",
       " 'and',\n",
       " 'political',\n",
       " 'role',\n",
       " 'in',\n",
       " \"India's\",\n",
       " 'Pokhran-II',\n",
       " 'nuclear',\n",
       " 'tests',\n",
       " 'in',\n",
       " '1998,',\n",
       " 'the',\n",
       " 'first',\n",
       " 'since',\n",
       " 'the',\n",
       " 'original',\n",
       " 'nuclear',\n",
       " 'test',\n",
       " 'by',\n",
       " 'India',\n",
       " 'in',\n",
       " '1974.[5]\\n\\nKalam',\n",
       " 'was',\n",
       " 'elected',\n",
       " 'as',\n",
       " 'the',\n",
       " '11th',\n",
       " 'president',\n",
       " 'of',\n",
       " 'India',\n",
       " 'in',\n",
       " '2002',\n",
       " 'with',\n",
       " 'the',\n",
       " 'support',\n",
       " 'of',\n",
       " 'both',\n",
       " 'the',\n",
       " 'ruling',\n",
       " 'Bharatiya',\n",
       " 'Janata',\n",
       " 'Party',\n",
       " 'and',\n",
       " 'the',\n",
       " 'then-opposition',\n",
       " 'Indian',\n",
       " 'National',\n",
       " 'Congress.',\n",
       " 'Widely',\n",
       " 'referred',\n",
       " 'to',\n",
       " 'as',\n",
       " 'the',\n",
       " '\"People\\'s',\n",
       " 'President\",[6]',\n",
       " 'he',\n",
       " 'returned',\n",
       " 'to',\n",
       " 'his',\n",
       " 'civilian',\n",
       " 'life',\n",
       " 'of',\n",
       " 'education,',\n",
       " 'writing',\n",
       " 'and',\n",
       " 'public',\n",
       " 'service',\n",
       " 'after',\n",
       " 'a',\n",
       " 'single',\n",
       " 'term.',\n",
       " 'He',\n",
       " 'was',\n",
       " 'a',\n",
       " 'recipient',\n",
       " 'of',\n",
       " 'several',\n",
       " 'prestigious',\n",
       " 'awards,',\n",
       " 'including',\n",
       " 'the',\n",
       " 'Bharat',\n",
       " 'Ratna,',\n",
       " \"India's\",\n",
       " 'highest',\n",
       " 'civilian',\n",
       " 'honour.\\n\\nWhile',\n",
       " 'delivering',\n",
       " 'a',\n",
       " 'lecture',\n",
       " 'at',\n",
       " 'the',\n",
       " 'Indian',\n",
       " 'Institute',\n",
       " 'of',\n",
       " 'Management',\n",
       " 'Shillong,',\n",
       " 'Kalam',\n",
       " 'collapsed',\n",
       " 'and',\n",
       " 'died',\n",
       " 'from',\n",
       " 'an',\n",
       " 'apparent',\n",
       " 'cardiac',\n",
       " 'arrest',\n",
       " 'on',\n",
       " '27',\n",
       " 'July',\n",
       " '2015,',\n",
       " 'aged',\n",
       " '83.[7]',\n",
       " 'Thousands,',\n",
       " 'including',\n",
       " 'national-level',\n",
       " 'dignitaries,',\n",
       " 'attended',\n",
       " 'the',\n",
       " 'funeral',\n",
       " 'ceremony',\n",
       " 'held',\n",
       " 'in',\n",
       " 'his',\n",
       " 'hometown',\n",
       " 'of',\n",
       " 'Rameswaram,',\n",
       " 'where',\n",
       " 'he',\n",
       " 'was',\n",
       " 'buried',\n",
       " 'with',\n",
       " 'full',\n",
       " 'state',\n",
       " 'honours.[8]',\n",
       " '\\n']"
      ]
     },
     "execution_count": 206,
     "metadata": {},
     "output_type": "execute_result"
    }
   ],
   "source": [
    "words"
   ]
  },
  {
   "cell_type": "code",
   "execution_count": 207,
   "id": "7fab87c5",
   "metadata": {},
   "outputs": [
    {
     "data": {
      "text/plain": [
       "163"
      ]
     },
     "execution_count": 207,
     "metadata": {},
     "output_type": "execute_result"
    }
   ],
   "source": [
    "len(set(words)) # talal unique words ( repeating words 256−163 = 93) vocab size"
   ]
  },
  {
   "cell_type": "code",
   "execution_count": 208,
   "id": "1da55c6b",
   "metadata": {},
   "outputs": [],
   "source": [
    "lines = t.split(\".\") # lines with full stop, note split with respect to full stop."
   ]
  },
  {
   "cell_type": "code",
   "execution_count": 209,
   "id": "b31a1a45",
   "metadata": {},
   "outputs": [
    {
     "data": {
      "text/plain": [
       "11"
      ]
     },
     "execution_count": 209,
     "metadata": {},
     "output_type": "execute_result"
    }
   ],
   "source": [
    "len(lines) # total lines"
   ]
  }
 ],
 "metadata": {
  "kernelspec": {
   "display_name": "Python 3 (ipykernel)",
   "language": "python",
   "name": "python3"
  },
  "language_info": {
   "codemirror_mode": {
    "name": "ipython",
    "version": 3
   },
   "file_extension": ".py",
   "mimetype": "text/x-python",
   "name": "python",
   "nbconvert_exporter": "python",
   "pygments_lexer": "ipython3",
   "version": "3.9.5"
  }
 },
 "nbformat": 4,
 "nbformat_minor": 5
}
